{
 "cells": [
  {
   "cell_type": "code",
   "execution_count": 23,
   "metadata": {},
   "outputs": [],
   "source": [
    "import pandas as pd\n",
    "import numpy as np\n",
    "from sklearn.metrics import mean_squared_error\n",
    "from sklearn.linear_model import LinearRegression\n",
    "import matplotlib.pyplot as plt\n",
    "%matplotlib inline"
   ]
  },
  {
   "cell_type": "code",
   "execution_count": 24,
   "metadata": {},
   "outputs": [],
   "source": [
    "housing=pd.read_csv(\"https://ww2.amstat.org/publications/jse/v19n3/decock/AmesHousing.txt\", delimiter=\"\\t\")"
   ]
  },
  {
   "cell_type": "code",
   "execution_count": 25,
   "metadata": {},
   "outputs": [
    {
     "data": {
      "text/html": [
       "<div>\n",
       "<style>\n",
       "    .dataframe thead tr:only-child th {\n",
       "        text-align: right;\n",
       "    }\n",
       "\n",
       "    .dataframe thead th {\n",
       "        text-align: left;\n",
       "    }\n",
       "\n",
       "    .dataframe tbody tr th {\n",
       "        vertical-align: top;\n",
       "    }\n",
       "</style>\n",
       "<table border=\"1\" class=\"dataframe\">\n",
       "  <thead>\n",
       "    <tr style=\"text-align: right;\">\n",
       "      <th></th>\n",
       "      <th>Order</th>\n",
       "      <th>PID</th>\n",
       "      <th>MS SubClass</th>\n",
       "      <th>MS Zoning</th>\n",
       "      <th>Lot Frontage</th>\n",
       "      <th>Lot Area</th>\n",
       "      <th>Street</th>\n",
       "      <th>Alley</th>\n",
       "      <th>Lot Shape</th>\n",
       "      <th>Land Contour</th>\n",
       "      <th>...</th>\n",
       "      <th>Pool Area</th>\n",
       "      <th>Pool QC</th>\n",
       "      <th>Fence</th>\n",
       "      <th>Misc Feature</th>\n",
       "      <th>Misc Val</th>\n",
       "      <th>Mo Sold</th>\n",
       "      <th>Yr Sold</th>\n",
       "      <th>Sale Type</th>\n",
       "      <th>Sale Condition</th>\n",
       "      <th>SalePrice</th>\n",
       "    </tr>\n",
       "  </thead>\n",
       "  <tbody>\n",
       "    <tr>\n",
       "      <th>0</th>\n",
       "      <td>1</td>\n",
       "      <td>526301100</td>\n",
       "      <td>20</td>\n",
       "      <td>RL</td>\n",
       "      <td>141.0</td>\n",
       "      <td>31770</td>\n",
       "      <td>Pave</td>\n",
       "      <td>NaN</td>\n",
       "      <td>IR1</td>\n",
       "      <td>Lvl</td>\n",
       "      <td>...</td>\n",
       "      <td>0</td>\n",
       "      <td>NaN</td>\n",
       "      <td>NaN</td>\n",
       "      <td>NaN</td>\n",
       "      <td>0</td>\n",
       "      <td>5</td>\n",
       "      <td>2010</td>\n",
       "      <td>WD</td>\n",
       "      <td>Normal</td>\n",
       "      <td>215000</td>\n",
       "    </tr>\n",
       "    <tr>\n",
       "      <th>1</th>\n",
       "      <td>2</td>\n",
       "      <td>526350040</td>\n",
       "      <td>20</td>\n",
       "      <td>RH</td>\n",
       "      <td>80.0</td>\n",
       "      <td>11622</td>\n",
       "      <td>Pave</td>\n",
       "      <td>NaN</td>\n",
       "      <td>Reg</td>\n",
       "      <td>Lvl</td>\n",
       "      <td>...</td>\n",
       "      <td>0</td>\n",
       "      <td>NaN</td>\n",
       "      <td>MnPrv</td>\n",
       "      <td>NaN</td>\n",
       "      <td>0</td>\n",
       "      <td>6</td>\n",
       "      <td>2010</td>\n",
       "      <td>WD</td>\n",
       "      <td>Normal</td>\n",
       "      <td>105000</td>\n",
       "    </tr>\n",
       "    <tr>\n",
       "      <th>2</th>\n",
       "      <td>3</td>\n",
       "      <td>526351010</td>\n",
       "      <td>20</td>\n",
       "      <td>RL</td>\n",
       "      <td>81.0</td>\n",
       "      <td>14267</td>\n",
       "      <td>Pave</td>\n",
       "      <td>NaN</td>\n",
       "      <td>IR1</td>\n",
       "      <td>Lvl</td>\n",
       "      <td>...</td>\n",
       "      <td>0</td>\n",
       "      <td>NaN</td>\n",
       "      <td>NaN</td>\n",
       "      <td>Gar2</td>\n",
       "      <td>12500</td>\n",
       "      <td>6</td>\n",
       "      <td>2010</td>\n",
       "      <td>WD</td>\n",
       "      <td>Normal</td>\n",
       "      <td>172000</td>\n",
       "    </tr>\n",
       "    <tr>\n",
       "      <th>3</th>\n",
       "      <td>4</td>\n",
       "      <td>526353030</td>\n",
       "      <td>20</td>\n",
       "      <td>RL</td>\n",
       "      <td>93.0</td>\n",
       "      <td>11160</td>\n",
       "      <td>Pave</td>\n",
       "      <td>NaN</td>\n",
       "      <td>Reg</td>\n",
       "      <td>Lvl</td>\n",
       "      <td>...</td>\n",
       "      <td>0</td>\n",
       "      <td>NaN</td>\n",
       "      <td>NaN</td>\n",
       "      <td>NaN</td>\n",
       "      <td>0</td>\n",
       "      <td>4</td>\n",
       "      <td>2010</td>\n",
       "      <td>WD</td>\n",
       "      <td>Normal</td>\n",
       "      <td>244000</td>\n",
       "    </tr>\n",
       "    <tr>\n",
       "      <th>4</th>\n",
       "      <td>5</td>\n",
       "      <td>527105010</td>\n",
       "      <td>60</td>\n",
       "      <td>RL</td>\n",
       "      <td>74.0</td>\n",
       "      <td>13830</td>\n",
       "      <td>Pave</td>\n",
       "      <td>NaN</td>\n",
       "      <td>IR1</td>\n",
       "      <td>Lvl</td>\n",
       "      <td>...</td>\n",
       "      <td>0</td>\n",
       "      <td>NaN</td>\n",
       "      <td>MnPrv</td>\n",
       "      <td>NaN</td>\n",
       "      <td>0</td>\n",
       "      <td>3</td>\n",
       "      <td>2010</td>\n",
       "      <td>WD</td>\n",
       "      <td>Normal</td>\n",
       "      <td>189900</td>\n",
       "    </tr>\n",
       "  </tbody>\n",
       "</table>\n",
       "<p>5 rows × 82 columns</p>\n",
       "</div>"
      ],
      "text/plain": [
       "   Order        PID  MS SubClass MS Zoning  Lot Frontage  Lot Area Street  \\\n",
       "0      1  526301100           20        RL         141.0     31770   Pave   \n",
       "1      2  526350040           20        RH          80.0     11622   Pave   \n",
       "2      3  526351010           20        RL          81.0     14267   Pave   \n",
       "3      4  526353030           20        RL          93.0     11160   Pave   \n",
       "4      5  527105010           60        RL          74.0     13830   Pave   \n",
       "\n",
       "  Alley Lot Shape Land Contour    ...     Pool Area Pool QC  Fence  \\\n",
       "0   NaN       IR1          Lvl    ...             0     NaN    NaN   \n",
       "1   NaN       Reg          Lvl    ...             0     NaN  MnPrv   \n",
       "2   NaN       IR1          Lvl    ...             0     NaN    NaN   \n",
       "3   NaN       Reg          Lvl    ...             0     NaN    NaN   \n",
       "4   NaN       IR1          Lvl    ...             0     NaN  MnPrv   \n",
       "\n",
       "  Misc Feature Misc Val Mo Sold Yr Sold Sale Type  Sale Condition  SalePrice  \n",
       "0          NaN        0       5    2010       WD           Normal     215000  \n",
       "1          NaN        0       6    2010       WD           Normal     105000  \n",
       "2         Gar2    12500       6    2010       WD           Normal     172000  \n",
       "3          NaN        0       4    2010       WD           Normal     244000  \n",
       "4          NaN        0       3    2010       WD           Normal     189900  \n",
       "\n",
       "[5 rows x 82 columns]"
      ]
     },
     "execution_count": 25,
     "metadata": {},
     "output_type": "execute_result"
    }
   ],
   "source": [
    "housing.head()"
   ]
  },
  {
   "cell_type": "code",
   "execution_count": 26,
   "metadata": {},
   "outputs": [],
   "source": [
    "def transform_features(df):\n",
    "    return df"
   ]
  },
  {
   "cell_type": "code",
   "execution_count": 27,
   "metadata": {},
   "outputs": [],
   "source": [
    "def select_features(df):\n",
    "    return df[[\"Gr Liv Area\",\"SalePrice\"]]\n",
    "    "
   ]
  },
  {
   "cell_type": "markdown",
   "metadata": {},
   "source": [
    "Testing the model with only one feature i.e. Gr Liv Area"
   ]
  },
  {
   "cell_type": "code",
   "execution_count": 28,
   "metadata": {},
   "outputs": [],
   "source": [
    "def train_and_test(df):\n",
    "    train=df[0:1460]\n",
    "    test=df[1460:]\n",
    "    numerical_cols=df.select_dtypes(include=[np.number]).columns.tolist()\n",
    "    #Now removing SalesPrice which is our target column\n",
    "    numerical_cols=numerical_cols[:-1]\n",
    "    target=\"SalePrice\"\n",
    "    lr=LinearRegression()\n",
    "    lr.fit(train[numerical_cols],train[target])\n",
    "    price=lr.predict(test[numerical_cols])\n",
    "    mse=mean_squared_error(test[target],price)\n",
    "    rmse=mse**(1/2)\n",
    "    return rmse"
   ]
  },
  {
   "cell_type": "code",
   "execution_count": 29,
   "metadata": {},
   "outputs": [
    {
     "data": {
      "text/plain": [
       "57088.251612639091"
      ]
     },
     "execution_count": 29,
     "metadata": {},
     "output_type": "execute_result"
    }
   ],
   "source": [
    "transform_hosuing = transform_features(housing)\n",
    "filtered_housing = select_features(transform_hosuing)\n",
    "rmse = train_and_test(filtered_housing)\n",
    "rmse"
   ]
  },
  {
   "cell_type": "markdown",
   "metadata": {},
   "source": [
    "## Feature Engineering "
   ]
  },
  {
   "cell_type": "code",
   "execution_count": 30,
   "metadata": {},
   "outputs": [],
   "source": [
    "null_values=housing.isnull().sum()\n",
    "#Removing columns with more than 5% missing values\n",
    "drop_cols=null_values[null_values > len(housing)/20].index\n",
    "housing=housing.drop(drop_cols,1)\n",
    "#Finding text columns\n",
    "text_cols=housing.select_dtypes(include=['object'])\n",
    "#Finding null values in all the text columns\n",
    "text_coll_values=text_cols.isnull().sum()\n",
    "text_coll_null_values=text_coll_values[text_coll_values>0]\n",
    "#Removing all the text columns which have null values\n",
    "housing=housing.drop(text_coll_null_values.index,1)\n",
    "\n",
    "#Now filling the remaining null values with mean of the columns\n",
    "housing=housing.fillna(housing.mean())\n",
    "\n",
    "#The dataframe now has no null values"
   ]
  },
  {
   "cell_type": "markdown",
   "metadata": {},
   "source": [
    "Dropping unwanted columns and adding few columns for better prediction"
   ]
  },
  {
   "cell_type": "code",
   "execution_count": 31,
   "metadata": {},
   "outputs": [],
   "source": [
    "housing['years_since_remodel'] = housing['Yr Sold'] - housing['Year Remod/Add']\n",
    "#as the above column has few negative values we will be removing those values\n",
    "housing=housing[housing['years_since_remodel']>0]\n",
    "#dropping the original columns\n",
    "housing = housing.drop([\"Year Built\", \"Year Remod/Add\"], axis = 1)\n",
    "#dropping unnecessary columns\n",
    "housing = housing.drop([\"PID\", \"Order\", \"Mo Sold\", \"Sale Condition\", \"Sale Type\"], axis=1)\n",
    "\n"
   ]
  },
  {
   "cell_type": "code",
   "execution_count": 32,
   "metadata": {},
   "outputs": [
    {
     "data": {
      "text/plain": [
       "47125.954453676983"
      ]
     },
     "execution_count": 32,
     "metadata": {},
     "output_type": "execute_result"
    }
   ],
   "source": [
    "def transform_features(df):\n",
    "    return df\n",
    "\n",
    "def select_features(df):\n",
    "    return df[[\"Gr Liv Area\",\"SalePrice\"]]\n",
    "    \n",
    "def train_and_test(df):\n",
    "    train=df[0:1460]\n",
    "    test=df[1460:]\n",
    "    numerical_cols=df.select_dtypes(include=[np.number]).columns.tolist()\n",
    "    #Now removing SalesPrice which is our target column\n",
    "    numerical_cols=numerical_cols[:-1]\n",
    "    target=\"SalePrice\"\n",
    "    lr=LinearRegression()\n",
    "    lr.fit(train[numerical_cols],train[target])\n",
    "    price=lr.predict(test[numerical_cols])\n",
    "    mse=mean_squared_error(test[target],price)\n",
    "    rmse=mse**(1/2)\n",
    "    return rmse\n",
    "\n",
    "transform_hosuing = transform_features(housing)\n",
    "filtered_housing = select_features(transform_hosuing)\n",
    "rmse = train_and_test(filtered_housing)\n",
    "rmse"
   ]
  },
  {
   "cell_type": "markdown",
   "metadata": {},
   "source": [
    "## Feature Selection\n",
    "\n",
    "#Selecting only numerical columns for finding correlation of each column with the target column"
   ]
  },
  {
   "cell_type": "code",
   "execution_count": 33,
   "metadata": {},
   "outputs": [],
   "source": [
    "numerical_cols = housing.select_dtypes(include=[np.number])"
   ]
  },
  {
   "cell_type": "code",
   "execution_count": 34,
   "metadata": {},
   "outputs": [
    {
     "data": {
      "text/plain": [
       "Misc Val               0.011022\n",
       "Yr Sold                0.014763\n",
       "3Ssn Porch             0.018963\n",
       "Bsmt Half Bath         0.024934\n",
       "Low Qual Fin SF        0.031588\n",
       "BsmtFin SF 2           0.040383\n",
       "Overall Cond           0.057481\n",
       "MS SubClass            0.067870\n",
       "Pool Area              0.090469\n",
       "Screen Porch           0.107739\n",
       "Enclosed Porch         0.113887\n",
       "Kitchen AbvGr          0.114293\n",
       "Bsmt Unf SF            0.149696\n",
       "Bedroom AbvGr          0.174402\n",
       "Lot Area               0.272263\n",
       "Bsmt Full Bath         0.277164\n",
       "Half Bath              0.296264\n",
       "2nd Flr SF             0.297071\n",
       "Open Porch SF          0.312254\n",
       "Wood Deck SF           0.348574\n",
       "BsmtFin SF 1           0.450253\n",
       "Mas Vnr Area           0.470673\n",
       "TotRms AbvGrd          0.476159\n",
       "Fireplaces             0.488419\n",
       "years_since_remodel    0.515419\n",
       "Full Bath              0.541690\n",
       "Garage Area            0.609103\n",
       "Garage Cars            0.622516\n",
       "1st Flr SF             0.623102\n",
       "Total Bsmt SF          0.632230\n",
       "Gr Liv Area            0.724094\n",
       "Overall Qual           0.785137\n",
       "SalePrice              1.000000\n",
       "Name: SalePrice, dtype: float64"
      ]
     },
     "execution_count": 34,
     "metadata": {},
     "output_type": "execute_result"
    }
   ],
   "source": [
    "correlation_with_target = numerical_cols.corr()['SalePrice'].abs().sort_values()\n",
    "correlation_with_target"
   ]
  },
  {
   "cell_type": "code",
   "execution_count": 35,
   "metadata": {},
   "outputs": [
    {
     "data": {
      "text/plain": [
       "Index(['years_since_remodel', 'Full Bath', 'Garage Area', 'Garage Cars',\n",
       "       '1st Flr SF', 'Total Bsmt SF', 'Gr Liv Area', 'Overall Qual'],\n",
       "      dtype='object')"
      ]
     },
     "execution_count": 35,
     "metadata": {},
     "output_type": "execute_result"
    }
   ],
   "source": [
    "#considering the columns for which correlation is greater than 0.5\n",
    "correlation_final=correlation_with_target[correlation_with_target>0.5]\n",
    "correlation_final=correlation_final.drop(\"SalePrice\")\n",
    "correlation_final.index"
   ]
  },
  {
   "cell_type": "code",
   "execution_count": 36,
   "metadata": {},
   "outputs": [
    {
     "data": {
      "text/plain": [
       "<matplotlib.axes._subplots.AxesSubplot at 0x2b0be395f98>"
      ]
     },
     "execution_count": 36,
     "metadata": {},
     "output_type": "execute_result"
    },
    {
     "data": {
      "image/png": "[encoded data removed]",
      "text/plain": [
       "<matplotlib.figure.Figure at 0x2b0be3a11d0>"
      ]
     },
     "metadata": {},
     "output_type": "display_data"
    }
   ],
   "source": [
    "#checking for collinearilty among above mentioned columns\n",
    "import seaborn as sns\n",
    "train=housing[0:1460]\n",
    "cor = train[correlation_final.index].corr()\n",
    "sns.heatmap(cor)"
   ]
  },
  {
   "cell_type": "markdown",
   "metadata": {},
   "source": [
    "based on the above plot no column is highly collinear with other column, hence we will proceed with these columns as our features"
   ]
  },
  {
   "cell_type": "code",
   "execution_count": 37,
   "metadata": {},
   "outputs": [
    {
     "data": {
      "text/plain": [
       "Index(['years_since_remodel', 'Full Bath', 'Garage Area', 'Garage Cars',\n",
       "       '1st Flr SF', 'Total Bsmt SF', 'Gr Liv Area', 'Overall Qual',\n",
       "       'SalePrice'],\n",
       "      dtype='object')"
      ]
     },
     "execution_count": 37,
     "metadata": {},
     "output_type": "execute_result"
    }
   ],
   "source": [
    "features=correlation_with_target[correlation_with_target>0.5].index\n",
    "features"
   ]
  },
  {
   "cell_type": "markdown",
   "metadata": {},
   "source": [
    "Building a model with all the numeric feature values which are most linearly correlated with the target variable"
   ]
  },
  {
   "cell_type": "code",
   "execution_count": 38,
   "metadata": {},
   "outputs": [
    {
     "data": {
      "text/plain": [
       "31625.515312198324"
      ]
     },
     "execution_count": 38,
     "metadata": {},
     "output_type": "execute_result"
    }
   ],
   "source": [
    "def transform_features(df):\n",
    "    return df\n",
    "\n",
    "def select_features(df):\n",
    "    return df[features]\n",
    "    \n",
    "def train_and_test(df):\n",
    "    train=df[0:1460]\n",
    "    test=df[1460:]\n",
    "    numerical_cols=df.select_dtypes(include=[np.number]).columns.tolist()\n",
    "    #Now removing SalesPrice which is our target column\n",
    "    numerical_cols=numerical_cols[:-1]\n",
    "    target=\"SalePrice\"\n",
    "    lr=LinearRegression()\n",
    "    lr.fit(train[numerical_cols],train[target])\n",
    "    price=lr.predict(test[numerical_cols])\n",
    "    mse=mean_squared_error(test[target],price)\n",
    "    rmse=mse**(1/2)\n",
    "    return rmse\n",
    "transform_hosuing = transform_features(housing)\n",
    "filtered_housing = select_features(transform_hosuing)\n",
    "rmse = train_and_test(filtered_housing)\n",
    "rmse"
   ]
  },
  {
   "cell_type": "markdown",
   "metadata": {},
   "source": [
    "## Including categorical variables for the prediction"
   ]
  },
  {
   "cell_type": "code",
   "execution_count": 39,
   "metadata": {},
   "outputs": [],
   "source": [
    "new_df=housing"
   ]
  },
  {
   "cell_type": "code",
   "execution_count": 40,
   "metadata": {},
   "outputs": [],
   "source": [
    "new_df = new_df.drop(correlation_with_target[correlation_with_target<0.5].index, axis=1)"
   ]
  },
  {
   "cell_type": "code",
   "execution_count": 41,
   "metadata": {},
   "outputs": [],
   "source": [
    "categorical_columns = [\"PID\", \"MS SubClass\", \"MS Zoning\", \"Street\", \"Alley\", \"Land Contour\", \"Lot Config\", \"Neighborhood\", \n",
    "                    \"Condition 1\", \"Condition 2\", \"Bldg Type\", \"House Style\", \"Roof Style\", \"Roof Matl\", \"Exterior 1st\", \n",
    "                    \"Exterior 2nd\", \"Mas Vnr Type\", \"Foundation\", \"Heating\", \"Central Air\", \"Garage Type\", \n",
    "                    \"Misc Feature\", \"Sale Type\", \"Sale Condition\"]"
   ]
  },
  {
   "cell_type": "code",
   "execution_count": 42,
   "metadata": {},
   "outputs": [],
   "source": [
    "transform_cat_cols = []\n",
    "for col in categorical_columns:\n",
    "    if col in new_df.columns:\n",
    "        transform_cat_cols.append(col)\n",
    "\n",
    "# Checking for unique values in each categorical column\n",
    "uniqueness_counts = new_df[transform_cat_cols].apply(lambda col: len(col.value_counts())).sort_values()\n",
    "\n",
    "## Setting the cutoff of 10 unique values\n",
    "drop_nonuniq_cols = uniqueness_counts[uniqueness_counts > 10].index\n",
    "new_df = new_df.drop(drop_nonuniq_cols, axis=1)"
   ]
  },
  {
   "cell_type": "code",
   "execution_count": 43,
   "metadata": {},
   "outputs": [],
   "source": [
    "text_cols = new_df.select_dtypes(include=['object'])\n",
    "for col in text_cols:\n",
    "    new_df[col] = new_df[col].astype('category')\n",
    "    \n",
    "# Creating dummy columns and adding them back to the dataframe\n",
    "new_df = pd.concat([\n",
    "    new_df, \n",
    "    pd.get_dummies(new_df.select_dtypes(include=['category']))\n",
    "], axis=1)"
   ]
  },
  {
   "cell_type": "code",
   "execution_count": 44,
   "metadata": {},
   "outputs": [
    {
     "data": {
      "text/plain": [
       "28385.880507653397"
      ]
     },
     "execution_count": 44,
     "metadata": {},
     "output_type": "execute_result"
    }
   ],
   "source": [
    "def transform_features(df):\n",
    "    return df\n",
    "\n",
    "def select_features(df):\n",
    "    return df\n",
    "    \n",
    "def train_and_test(df):\n",
    "    train=df[0:1460]\n",
    "    test=df[1460:]\n",
    "    numeric_df = df.select_dtypes(include=[np.number])\n",
    "    features = numeric_df.columns.tolist()\n",
    "    features.remove(\"SalePrice\")    #Now removing SalesPrice which is our target column\n",
    "    lr=LinearRegression()\n",
    "    lr.fit(train[features],train[\"SalePrice\"])\n",
    "    price=lr.predict(test[features])\n",
    "    mse=mean_squared_error(test[\"SalePrice\"],price)\n",
    "    rmse=mse**(1/2)\n",
    "    return rmse\n",
    "transform_hosuing = transform_features(new_df)\n",
    "filtered_housing = select_features(transform_hosuing)\n",
    "rmse = train_and_test(filtered_housing)\n",
    "rmse"
   ]
  },
  {
   "cell_type": "markdown",
   "metadata": {},
   "source": [
    "We see that as we use categorical attributes to our features,the model prediction improves as we get a low RMSE value."
   ]
  },
  {
   "cell_type": "code",
   "execution_count": null,
   "metadata": {},
   "outputs": [],
   "source": []
  }
 ],
 "metadata": {
  "kernelspec": {
   "display_name": "Python 3",
   "language": "python",
   "name": "python3"
  },
  "language_info": {
   "codemirror_mode": {
    "name": "ipython",
    "version": 3
   },
   "file_extension": ".py",
   "mimetype": "text/x-python",
   "name": "python",
   "nbconvert_exporter": "python",
   "pygments_lexer": "ipython3",
   "version": "3.6.1"
  }
 },
 "nbformat": 4,
 "nbformat_minor": 2
}
